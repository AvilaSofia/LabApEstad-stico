{
  "cells": [
    {
      "cell_type": "markdown",
      "id": "c191c972-2c85-4284-a555-7db618ba5b26",
      "metadata": {
        "id": "c191c972-2c85-4284-a555-7db618ba5b26"
      },
      "source": [
        "# Laboratorio de regresión logística"
      ]
    },
    {
      "cell_type": "markdown",
      "id": "e11c177c-1848-44b0-8c6b-b35537b5ae2f",
      "metadata": {
        "id": "e11c177c-1848-44b0-8c6b-b35537b5ae2f"
      },
      "source": [
        "|                |   |\n",
        ":----------------|---|\n",
        "| **Nombre**     |Ana Sofía Avila Gálvez   |\n",
        "| **Fecha**      |12/10/25   |\n",
        "| **Expediente** |745247   |"
      ]
    },
    {
      "cell_type": "markdown",
      "id": "4b95344a-b10c-465d-a5f4-bfa65905420c",
      "metadata": {
        "id": "4b95344a-b10c-465d-a5f4-bfa65905420c"
      },
      "source": [
        "In machine learning, Support Vector Machines (SVM) are supervised learning models with associated learning algorithms that analyze data used for classification and regression analysis. It is mostly used in classification problems. In this algorithm, each data item is plotted as a point in p-dimensional space (where p is the number of features), with the value of each feature being the value of a particular coordinate. Then, classification is performed by finding the hyper-plane that best differentiates the two classes (or more if we have a multi class problem):\n",
        "\n",
        "$$ f(x) = w^T \\varphi(x) + b $$\n",
        "\n",
        "where $\\varphi: X \\rightarrow F $ is a function that makes each input point $x$ correspond to a point in F, where F is a Hilbert space.\n",
        "\n",
        "In addition to performing linear classification, SVMs can efficiently perform a non-linear classification, implicitly mapping their inputs into high-dimensional feature spaces (more specifically using the kernel trick, like the RBF funcion).\n",
        "\n",
        "[1]\n",
        "\n",
        "OLS utilizes the squared residuals to fit the parameters. Large residuals caused by outliers may worsen the accuracy significantly.\n",
        "\n",
        "Support Vectors use piecewise linear functions to counter this, in which a hyperparameter  $\\epsilon$ called the margin lets errors that are less or equal to it be 0, and error larger than it be $e - \\epsilon$.\n",
        "\n",
        "The problem to solve is:\n",
        "\n",
        "\\begin{split}\n",
        "        \\min_{w, b, \\xi, \\xi^*} \\mathcal{P}_\\epsilon(w, b, \\xi) &= \\frac{1}{2} w^T w + c \\sum_{k=1}^{N} \\xi_k \\\\\n",
        "        \\text{s.t. } & y_k [w^T \\varphi(x_k) - b] \\geq 1- \\xi_k,\\ \\ k = 1, ..., N \\\\\n",
        "        & \\xi_k \\geq 0,\\ \\ k = 1, ..., N\n",
        "\\end{split}\n",
        "\n",
        "\n",
        "The most important question that arises when using a SVM is how to choose the correct hyperplane. Consider the following scenarios:"
      ]
    },
    {
      "cell_type": "markdown",
      "id": "ffd4c629-c547-433d-90ff-852a1e722a95",
      "metadata": {
        "id": "ffd4c629-c547-433d-90ff-852a1e722a95"
      },
      "source": [
        "### Scenario 1\n",
        "\n",
        "In this scenario there are three hyperplanes called A, B, and C. Now, the problem is to identify the hyperplane which best differentiates the stars and the circles.\n",
        "\n",
        "<center><img src=\"https://media.geeksforgeeks.org/wp-content/uploads/SVM_21-2.png\" alt=\"what image shows\"></center>\n",
        "\n",
        "In this case, hyperplane B separates the stars and the circle betters, hence it is the correct hyperplane.\n"
      ]
    },
    {
      "cell_type": "markdown",
      "id": "3d158b5b-99f1-435a-9b91-0d8a17363bce",
      "metadata": {
        "id": "3d158b5b-99f1-435a-9b91-0d8a17363bce"
      },
      "source": [
        "### Scenario 2\n",
        "\n",
        "Now take another scenario where all three hyperplanes are segregating classes well. The question that arises is how to choose the best hyperplane in this situation.\n",
        "\n",
        "<center><img src=\"https://media.geeksforgeeks.org/wp-content/uploads/SVM_4-2.png\" alt=\"what image shows\"></center>\n",
        "\n",
        "In such scenarios, we calculate the margin (which is the distance between nearest data point and the hyperplane). The hyperplane with the largest margin will be considered as the correct hyperplane to classify the dataset.\n",
        "\n",
        "Here C has the largest margin. Hence, it is considered as the best hyperplane.\n"
      ]
    },
    {
      "cell_type": "markdown",
      "id": "d4ae4b6d-e3fe-4496-8f7a-242697fb058e",
      "metadata": {
        "id": "d4ae4b6d-e3fe-4496-8f7a-242697fb058e"
      },
      "source": [
        "### Kernels\n",
        "Knowing\n",
        "$$ w = \\sum_{k=1}^{N} \\alpha_k y_k \\varphi(x_k) $$\n",
        "\n",
        "And\n",
        "$$ y_{pred} = w^T \\varphi(x) + b $$\n",
        "\n",
        "Then\n",
        "$$ y_{pred} = (\\sum_{k=1}^{N} \\alpha_k y_k \\varphi(x_k))^T \\varphi(x) + b $$\n",
        "\n",
        "Where $\\varphi$ is a function that makes each input in $x$ correspond to a point in $F$ (a Hilbert space). This can be seen as processing and transforming the input featuers to keep the model's convexity. [2]\n",
        "\n",
        "This also allows us to transform the inputs into another space where they might be more easily classified.\n",
        "\n",
        "<center><img src=https://miro.medium.com/max/838/1*gXvhD4IomaC9Jb37tzDUVg.png alt=\"what image shows\"></center>"
      ]
    },
    {
      "cell_type": "markdown",
      "id": "d8cdd455-cb0d-477c-84a8-326453792426",
      "metadata": {
        "id": "d8cdd455-cb0d-477c-84a8-326453792426"
      },
      "source": [
        "## ROC and AUC\n",
        "\n",
        "A ROC (Receiver Operating Characteristic) is a graph that shows how the classification model performs at the classification thresholds.\n",
        "\n",
        "ROC curves typically feature true positive rate on the Y axis, and false positive rate on the X axis. This means that the top left corner of the plot is the “ideal” point - a false positive rate of zero, and a true positive rate of one. This is not very realistic, but it does mean that a larger area under the curve (AUC) is usually better. [3]\n",
        "\n",
        "True Positive Rate is a synonym for Recall and defined as:\n",
        "$$ TPR = \\frac{TP}{TP + FN} $$\n",
        "\n",
        "False Positive Rate is a synonym for Specificity and defined as:\n",
        "\n",
        "$$ FPR = \\frac{FP}{FP + TN} $$\n",
        "\n",
        "ROC curves are typically used in binary classification to study the output of a classifier. In order to extend ROC curve and ROC area to multi-label classification, it is necessary to binarize the output. One ROC curve can be drawn per label, but one can also draw a ROC curve by considering each element of the label indicator matrix as a binary prediction (micro-averaging).\n",
        "\n",
        "E.g. If you lower a classification threshold, more items would be classified as positive, increasing False Positives and True Positives.\n",
        "\n",
        "AUC stands for Area under the ROC."
      ]
    },
    {
      "cell_type": "markdown",
      "id": "3ce8fe3e-dca0-4f66-94c6-18f3545cb865",
      "metadata": {
        "id": "3ce8fe3e-dca0-4f66-94c6-18f3545cb865"
      },
      "source": [
        "## Ejercicio 1"
      ]
    },
    {
      "cell_type": "markdown",
      "id": "ca93403a-dc07-4059-8e97-991e98d8caf4",
      "metadata": {
        "id": "ca93403a-dc07-4059-8e97-991e98d8caf4"
      },
      "source": [
        "- Utiliza el dataset `Iris`, modela con SVC y haz Cross-Validation de diferentes kernels ('linear', 'poly', 'rbf', 'sigmoid').\n",
        "- Modela con LogisticRegression.\n",
        "- El método de Cross-Validation es K-Folds con $k=10$.\n",
        "- Utiliza el AUC como métrico de Cross-Validation.\n",
        "- Compara resultados."
      ]
    },
    {
      "cell_type": "code",
      "source": [
        "from sklearn.datasets import load_iris\n",
        "from sklearn.model_selection import KFold\n",
        "from sklearn.preprocessing import StandardScaler, label_binarize\n",
        "from sklearn.svm import SVC\n",
        "from sklearn.linear_model import LogisticRegression\n",
        "from sklearn.metrics import roc_auc_score\n",
        "import numpy as np\n",
        "import pandas as pd"
      ],
      "metadata": {
        "id": "g11r09-sFoQM"
      },
      "id": "g11r09-sFoQM",
      "execution_count": 6,
      "outputs": []
    },
    {
      "cell_type": "code",
      "source": [
        "iris = load_iris()\n",
        "X = StandardScaler().fit_transform(iris.data)\n",
        "y = iris.target\n",
        "y_bin = label_binarize(y, classes=[0, 1, 2])"
      ],
      "metadata": {
        "id": "99meKaCLFoSt"
      },
      "id": "99meKaCLFoSt",
      "execution_count": 7,
      "outputs": []
    },
    {
      "cell_type": "code",
      "source": [
        "kfold = KFold(n_splits=10, shuffle=True, random_state=0)"
      ],
      "metadata": {
        "id": "a_aYOxh8GLXX"
      },
      "id": "a_aYOxh8GLXX",
      "execution_count": 9,
      "outputs": []
    },
    {
      "cell_type": "code",
      "source": [
        "#Calcular AUC promedio\n",
        "def auc_promedio(modelo):\n",
        "    aucs = []\n",
        "    for train, test in kfold.split(X):\n",
        "        modelo.fit(X[train], y[train])       # usa y normal (1D)\n",
        "        y_pred = modelo.decision_function(X[test])\n",
        "        auc = roc_auc_score(y_bin[test], y_pred, multi_class='ovr')\n",
        "        aucs.append(auc)\n",
        "    return np.mean(aucs)"
      ],
      "metadata": {
        "id": "woovQD2SGLZ1"
      },
      "id": "woovQD2SGLZ1",
      "execution_count": 10,
      "outputs": []
    },
    {
      "cell_type": "code",
      "source": [
        "resultados = {}\n",
        "for kernel in ['linear', 'poly', 'rbf', 'sigmoid']:\n",
        "    modelo = SVC(kernel=kernel)\n",
        "    resultados[f'SVC_{kernel}'] = auc_promedio(modelo)\n",
        "\n",
        "modelo_lr = LogisticRegression(max_iter=1000)\n",
        "resultados['LogisticRegression'] = auc_promedio(modelo_lr)"
      ],
      "metadata": {
        "colab": {
          "base_uri": "https://localhost:8080/"
        },
        "id": "IeJ5CBA4FoVf",
        "outputId": "139955d6-2fac-44a3-ecef-58b50aec302f"
      },
      "id": "IeJ5CBA4FoVf",
      "execution_count": 11,
      "outputs": [
        {
          "output_type": "stream",
          "name": "stderr",
          "text": [
            "/usr/local/lib/python3.12/dist-packages/sklearn/metrics/_ranking.py:379: UndefinedMetricWarning: Only one class is present in y_true. ROC AUC score is not defined in that case.\n",
            "  warnings.warn(\n",
            "/usr/local/lib/python3.12/dist-packages/sklearn/metrics/_ranking.py:379: UndefinedMetricWarning: Only one class is present in y_true. ROC AUC score is not defined in that case.\n",
            "  warnings.warn(\n",
            "/usr/local/lib/python3.12/dist-packages/sklearn/metrics/_ranking.py:379: UndefinedMetricWarning: Only one class is present in y_true. ROC AUC score is not defined in that case.\n",
            "  warnings.warn(\n",
            "/usr/local/lib/python3.12/dist-packages/sklearn/metrics/_ranking.py:379: UndefinedMetricWarning: Only one class is present in y_true. ROC AUC score is not defined in that case.\n",
            "  warnings.warn(\n",
            "/usr/local/lib/python3.12/dist-packages/sklearn/metrics/_ranking.py:379: UndefinedMetricWarning: Only one class is present in y_true. ROC AUC score is not defined in that case.\n",
            "  warnings.warn(\n"
          ]
        }
      ]
    },
    {
      "cell_type": "code",
      "source": [
        "df = pd.DataFrame(resultados.items(), columns=['Modelo', 'AUC Promedio'])\n",
        "print(df.sort_values(by='AUC Promedio', ascending=False))"
      ],
      "metadata": {
        "colab": {
          "base_uri": "https://localhost:8080/"
        },
        "id": "e_Xt9XUEGdHl",
        "outputId": "6123f879-4505-4f9f-e569-c672532f6175"
      },
      "id": "e_Xt9XUEGdHl",
      "execution_count": 12,
      "outputs": [
        {
          "output_type": "stream",
          "name": "stdout",
          "text": [
            "               Modelo  AUC Promedio\n",
            "0          SVC_linear           NaN\n",
            "1            SVC_poly           NaN\n",
            "2             SVC_rbf           NaN\n",
            "3         SVC_sigmoid           NaN\n",
            "4  LogisticRegression           NaN\n"
          ]
        }
      ]
    },
    {
      "cell_type": "markdown",
      "id": "c7e26d1b-1bd2-4839-a743-a63f6b258a42",
      "metadata": {
        "id": "c7e26d1b-1bd2-4839-a743-a63f6b258a42"
      },
      "source": [
        "## Ejercicio 2\n",
        "- Repite el ejercicio 1 con el dataset `Default`. Utiliza `default` como target."
      ]
    },
    {
      "cell_type": "code",
      "execution_count": 16,
      "id": "44c9b2d2-236f-4a1e-b9dc-fabe78fd8332",
      "metadata": {
        "colab": {
          "base_uri": "https://localhost:8080/",
          "height": 206
        },
        "id": "44c9b2d2-236f-4a1e-b9dc-fabe78fd8332",
        "outputId": "69d72462-27de-416e-e5d7-425f98d4fe56"
      },
      "outputs": [
        {
          "output_type": "execute_result",
          "data": {
            "text/plain": [
              "  default student      balance        income\n",
              "0      No      No   729.526495  44361.625074\n",
              "1      No     Yes   817.180407  12106.134700\n",
              "2      No      No  1073.549164  31767.138950\n",
              "3      No      No   529.250605  35704.493940\n",
              "4      No      No   785.655883  38463.495880"
            ],
            "text/html": [
              "\n",
              "  <div id=\"df-3e5ecbdb-2c9f-4992-a7d6-6295ac4afc37\" class=\"colab-df-container\">\n",
              "    <div>\n",
              "<style scoped>\n",
              "    .dataframe tbody tr th:only-of-type {\n",
              "        vertical-align: middle;\n",
              "    }\n",
              "\n",
              "    .dataframe tbody tr th {\n",
              "        vertical-align: top;\n",
              "    }\n",
              "\n",
              "    .dataframe thead th {\n",
              "        text-align: right;\n",
              "    }\n",
              "</style>\n",
              "<table border=\"1\" class=\"dataframe\">\n",
              "  <thead>\n",
              "    <tr style=\"text-align: right;\">\n",
              "      <th></th>\n",
              "      <th>default</th>\n",
              "      <th>student</th>\n",
              "      <th>balance</th>\n",
              "      <th>income</th>\n",
              "    </tr>\n",
              "  </thead>\n",
              "  <tbody>\n",
              "    <tr>\n",
              "      <th>0</th>\n",
              "      <td>No</td>\n",
              "      <td>No</td>\n",
              "      <td>729.526495</td>\n",
              "      <td>44361.625074</td>\n",
              "    </tr>\n",
              "    <tr>\n",
              "      <th>1</th>\n",
              "      <td>No</td>\n",
              "      <td>Yes</td>\n",
              "      <td>817.180407</td>\n",
              "      <td>12106.134700</td>\n",
              "    </tr>\n",
              "    <tr>\n",
              "      <th>2</th>\n",
              "      <td>No</td>\n",
              "      <td>No</td>\n",
              "      <td>1073.549164</td>\n",
              "      <td>31767.138950</td>\n",
              "    </tr>\n",
              "    <tr>\n",
              "      <th>3</th>\n",
              "      <td>No</td>\n",
              "      <td>No</td>\n",
              "      <td>529.250605</td>\n",
              "      <td>35704.493940</td>\n",
              "    </tr>\n",
              "    <tr>\n",
              "      <th>4</th>\n",
              "      <td>No</td>\n",
              "      <td>No</td>\n",
              "      <td>785.655883</td>\n",
              "      <td>38463.495880</td>\n",
              "    </tr>\n",
              "  </tbody>\n",
              "</table>\n",
              "</div>\n",
              "    <div class=\"colab-df-buttons\">\n",
              "\n",
              "  <div class=\"colab-df-container\">\n",
              "    <button class=\"colab-df-convert\" onclick=\"convertToInteractive('df-3e5ecbdb-2c9f-4992-a7d6-6295ac4afc37')\"\n",
              "            title=\"Convert this dataframe to an interactive table.\"\n",
              "            style=\"display:none;\">\n",
              "\n",
              "  <svg xmlns=\"http://www.w3.org/2000/svg\" height=\"24px\" viewBox=\"0 -960 960 960\">\n",
              "    <path d=\"M120-120v-720h720v720H120Zm60-500h600v-160H180v160Zm220 220h160v-160H400v160Zm0 220h160v-160H400v160ZM180-400h160v-160H180v160Zm440 0h160v-160H620v160ZM180-180h160v-160H180v160Zm440 0h160v-160H620v160Z\"/>\n",
              "  </svg>\n",
              "    </button>\n",
              "\n",
              "  <style>\n",
              "    .colab-df-container {\n",
              "      display:flex;\n",
              "      gap: 12px;\n",
              "    }\n",
              "\n",
              "    .colab-df-convert {\n",
              "      background-color: #E8F0FE;\n",
              "      border: none;\n",
              "      border-radius: 50%;\n",
              "      cursor: pointer;\n",
              "      display: none;\n",
              "      fill: #1967D2;\n",
              "      height: 32px;\n",
              "      padding: 0 0 0 0;\n",
              "      width: 32px;\n",
              "    }\n",
              "\n",
              "    .colab-df-convert:hover {\n",
              "      background-color: #E2EBFA;\n",
              "      box-shadow: 0px 1px 2px rgba(60, 64, 67, 0.3), 0px 1px 3px 1px rgba(60, 64, 67, 0.15);\n",
              "      fill: #174EA6;\n",
              "    }\n",
              "\n",
              "    .colab-df-buttons div {\n",
              "      margin-bottom: 4px;\n",
              "    }\n",
              "\n",
              "    [theme=dark] .colab-df-convert {\n",
              "      background-color: #3B4455;\n",
              "      fill: #D2E3FC;\n",
              "    }\n",
              "\n",
              "    [theme=dark] .colab-df-convert:hover {\n",
              "      background-color: #434B5C;\n",
              "      box-shadow: 0px 1px 3px 1px rgba(0, 0, 0, 0.15);\n",
              "      filter: drop-shadow(0px 1px 2px rgba(0, 0, 0, 0.3));\n",
              "      fill: #FFFFFF;\n",
              "    }\n",
              "  </style>\n",
              "\n",
              "    <script>\n",
              "      const buttonEl =\n",
              "        document.querySelector('#df-3e5ecbdb-2c9f-4992-a7d6-6295ac4afc37 button.colab-df-convert');\n",
              "      buttonEl.style.display =\n",
              "        google.colab.kernel.accessAllowed ? 'block' : 'none';\n",
              "\n",
              "      async function convertToInteractive(key) {\n",
              "        const element = document.querySelector('#df-3e5ecbdb-2c9f-4992-a7d6-6295ac4afc37');\n",
              "        const dataTable =\n",
              "          await google.colab.kernel.invokeFunction('convertToInteractive',\n",
              "                                                    [key], {});\n",
              "        if (!dataTable) return;\n",
              "\n",
              "        const docLinkHtml = 'Like what you see? Visit the ' +\n",
              "          '<a target=\"_blank\" href=https://colab.research.google.com/notebooks/data_table.ipynb>data table notebook</a>'\n",
              "          + ' to learn more about interactive tables.';\n",
              "        element.innerHTML = '';\n",
              "        dataTable['output_type'] = 'display_data';\n",
              "        await google.colab.output.renderOutput(dataTable, element);\n",
              "        const docLink = document.createElement('div');\n",
              "        docLink.innerHTML = docLinkHtml;\n",
              "        element.appendChild(docLink);\n",
              "      }\n",
              "    </script>\n",
              "  </div>\n",
              "\n",
              "\n",
              "    <div id=\"df-4b70f08b-c58c-46a9-814c-4913f934d1c1\">\n",
              "      <button class=\"colab-df-quickchart\" onclick=\"quickchart('df-4b70f08b-c58c-46a9-814c-4913f934d1c1')\"\n",
              "                title=\"Suggest charts\"\n",
              "                style=\"display:none;\">\n",
              "\n",
              "<svg xmlns=\"http://www.w3.org/2000/svg\" height=\"24px\"viewBox=\"0 0 24 24\"\n",
              "     width=\"24px\">\n",
              "    <g>\n",
              "        <path d=\"M19 3H5c-1.1 0-2 .9-2 2v14c0 1.1.9 2 2 2h14c1.1 0 2-.9 2-2V5c0-1.1-.9-2-2-2zM9 17H7v-7h2v7zm4 0h-2V7h2v10zm4 0h-2v-4h2v4z\"/>\n",
              "    </g>\n",
              "</svg>\n",
              "      </button>\n",
              "\n",
              "<style>\n",
              "  .colab-df-quickchart {\n",
              "      --bg-color: #E8F0FE;\n",
              "      --fill-color: #1967D2;\n",
              "      --hover-bg-color: #E2EBFA;\n",
              "      --hover-fill-color: #174EA6;\n",
              "      --disabled-fill-color: #AAA;\n",
              "      --disabled-bg-color: #DDD;\n",
              "  }\n",
              "\n",
              "  [theme=dark] .colab-df-quickchart {\n",
              "      --bg-color: #3B4455;\n",
              "      --fill-color: #D2E3FC;\n",
              "      --hover-bg-color: #434B5C;\n",
              "      --hover-fill-color: #FFFFFF;\n",
              "      --disabled-bg-color: #3B4455;\n",
              "      --disabled-fill-color: #666;\n",
              "  }\n",
              "\n",
              "  .colab-df-quickchart {\n",
              "    background-color: var(--bg-color);\n",
              "    border: none;\n",
              "    border-radius: 50%;\n",
              "    cursor: pointer;\n",
              "    display: none;\n",
              "    fill: var(--fill-color);\n",
              "    height: 32px;\n",
              "    padding: 0;\n",
              "    width: 32px;\n",
              "  }\n",
              "\n",
              "  .colab-df-quickchart:hover {\n",
              "    background-color: var(--hover-bg-color);\n",
              "    box-shadow: 0 1px 2px rgba(60, 64, 67, 0.3), 0 1px 3px 1px rgba(60, 64, 67, 0.15);\n",
              "    fill: var(--button-hover-fill-color);\n",
              "  }\n",
              "\n",
              "  .colab-df-quickchart-complete:disabled,\n",
              "  .colab-df-quickchart-complete:disabled:hover {\n",
              "    background-color: var(--disabled-bg-color);\n",
              "    fill: var(--disabled-fill-color);\n",
              "    box-shadow: none;\n",
              "  }\n",
              "\n",
              "  .colab-df-spinner {\n",
              "    border: 2px solid var(--fill-color);\n",
              "    border-color: transparent;\n",
              "    border-bottom-color: var(--fill-color);\n",
              "    animation:\n",
              "      spin 1s steps(1) infinite;\n",
              "  }\n",
              "\n",
              "  @keyframes spin {\n",
              "    0% {\n",
              "      border-color: transparent;\n",
              "      border-bottom-color: var(--fill-color);\n",
              "      border-left-color: var(--fill-color);\n",
              "    }\n",
              "    20% {\n",
              "      border-color: transparent;\n",
              "      border-left-color: var(--fill-color);\n",
              "      border-top-color: var(--fill-color);\n",
              "    }\n",
              "    30% {\n",
              "      border-color: transparent;\n",
              "      border-left-color: var(--fill-color);\n",
              "      border-top-color: var(--fill-color);\n",
              "      border-right-color: var(--fill-color);\n",
              "    }\n",
              "    40% {\n",
              "      border-color: transparent;\n",
              "      border-right-color: var(--fill-color);\n",
              "      border-top-color: var(--fill-color);\n",
              "    }\n",
              "    60% {\n",
              "      border-color: transparent;\n",
              "      border-right-color: var(--fill-color);\n",
              "    }\n",
              "    80% {\n",
              "      border-color: transparent;\n",
              "      border-right-color: var(--fill-color);\n",
              "      border-bottom-color: var(--fill-color);\n",
              "    }\n",
              "    90% {\n",
              "      border-color: transparent;\n",
              "      border-bottom-color: var(--fill-color);\n",
              "    }\n",
              "  }\n",
              "</style>\n",
              "\n",
              "      <script>\n",
              "        async function quickchart(key) {\n",
              "          const quickchartButtonEl =\n",
              "            document.querySelector('#' + key + ' button');\n",
              "          quickchartButtonEl.disabled = true;  // To prevent multiple clicks.\n",
              "          quickchartButtonEl.classList.add('colab-df-spinner');\n",
              "          try {\n",
              "            const charts = await google.colab.kernel.invokeFunction(\n",
              "                'suggestCharts', [key], {});\n",
              "          } catch (error) {\n",
              "            console.error('Error during call to suggestCharts:', error);\n",
              "          }\n",
              "          quickchartButtonEl.classList.remove('colab-df-spinner');\n",
              "          quickchartButtonEl.classList.add('colab-df-quickchart-complete');\n",
              "        }\n",
              "        (() => {\n",
              "          let quickchartButtonEl =\n",
              "            document.querySelector('#df-4b70f08b-c58c-46a9-814c-4913f934d1c1 button');\n",
              "          quickchartButtonEl.style.display =\n",
              "            google.colab.kernel.accessAllowed ? 'block' : 'none';\n",
              "        })();\n",
              "      </script>\n",
              "    </div>\n",
              "\n",
              "    </div>\n",
              "  </div>\n"
            ],
            "application/vnd.google.colaboratory.intrinsic+json": {
              "type": "dataframe",
              "variable_name": "df",
              "summary": "{\n  \"name\": \"df\",\n  \"rows\": 10000,\n  \"fields\": [\n    {\n      \"column\": \"default\",\n      \"properties\": {\n        \"dtype\": \"category\",\n        \"num_unique_values\": 2,\n        \"samples\": [\n          \"Yes\",\n          \"No\"\n        ],\n        \"semantic_type\": \"\",\n        \"description\": \"\"\n      }\n    },\n    {\n      \"column\": \"student\",\n      \"properties\": {\n        \"dtype\": \"category\",\n        \"num_unique_values\": 2,\n        \"samples\": [\n          \"Yes\",\n          \"No\"\n        ],\n        \"semantic_type\": \"\",\n        \"description\": \"\"\n      }\n    },\n    {\n      \"column\": \"balance\",\n      \"properties\": {\n        \"dtype\": \"number\",\n        \"std\": 483.7149852107759,\n        \"min\": 0.0,\n        \"max\": 2654.322576,\n        \"num_unique_values\": 9502,\n        \"samples\": [\n          245.3464925,\n          186.5235201\n        ],\n        \"semantic_type\": \"\",\n        \"description\": \"\"\n      }\n    },\n    {\n      \"column\": \"income\",\n      \"properties\": {\n        \"dtype\": \"number\",\n        \"std\": 13336.639562733584,\n        \"min\": 771.9677294,\n        \"max\": 73554.2335,\n        \"num_unique_values\": 10000,\n        \"samples\": [\n          31507.08928,\n          42139.07027\n        ],\n        \"semantic_type\": \"\",\n        \"description\": \"\"\n      }\n    }\n  ]\n}"
            }
          },
          "metadata": {},
          "execution_count": 16
        }
      ],
      "source": [
        "df = pd.read_csv(\"Default.csv\")\n",
        "df.head()"
      ]
    },
    {
      "cell_type": "code",
      "execution_count": 17,
      "id": "0f51dd70-7125-4c3f-a5f3-0f2e56cea8da",
      "metadata": {
        "id": "0f51dd70-7125-4c3f-a5f3-0f2e56cea8da"
      },
      "outputs": [],
      "source": [
        "#Variables categóricas\n",
        "df[\"default\"] = LabelEncoder().fit_transform(df[\"default\"])\n",
        "df[\"student\"] = LabelEncoder().fit_transform(df[\"student\"])"
      ]
    },
    {
      "cell_type": "code",
      "source": [
        "X = df[[\"student\", \"balance\", \"income\"]]\n",
        "y = df[\"default\"]\n",
        "X = StandardScaler().fit_transform(X)"
      ],
      "metadata": {
        "id": "w0gI4072HMkh"
      },
      "id": "w0gI4072HMkh",
      "execution_count": 18,
      "outputs": []
    },
    {
      "cell_type": "code",
      "source": [
        "kfold = KFold(n_splits=10, shuffle=True, random_state=0)"
      ],
      "metadata": {
        "id": "2xhKJz1LHMm3"
      },
      "id": "2xhKJz1LHMm3",
      "execution_count": 19,
      "outputs": []
    },
    {
      "cell_type": "code",
      "source": [
        "#Calcular AUC promedio\n",
        "def auc_promedio(modelo):\n",
        "    aucs = []\n",
        "    for train, test in kfold.split(X):\n",
        "        modelo.fit(X[train], y.iloc[train])\n",
        "        y_pred = modelo.decision_function(X[test])\n",
        "        aucs.append(roc_auc_score(y.iloc[test], y_pred))\n",
        "    return np.mean(aucs)"
      ],
      "metadata": {
        "id": "I-WgsqtFHMpX"
      },
      "id": "I-WgsqtFHMpX",
      "execution_count": 20,
      "outputs": []
    },
    {
      "cell_type": "code",
      "source": [
        "resultados = {}\n",
        "for kernel in ['linear', 'poly', 'rbf', 'sigmoid']:\n",
        "    modelo = SVC(kernel=kernel)\n",
        "    resultados[f'SVC_{kernel}'] = auc_promedio(modelo)\n",
        "\n",
        "modelo_lr = LogisticRegression(max_iter=1000)\n",
        "resultados['LogisticRegression'] = auc_promedio(modelo_lr)"
      ],
      "metadata": {
        "id": "i10oDd4cHMr4"
      },
      "id": "i10oDd4cHMr4",
      "execution_count": 21,
      "outputs": []
    },
    {
      "cell_type": "code",
      "source": [
        "df_resultados = pd.DataFrame(resultados.items(), columns=['Modelo', 'AUC Promedio'])\n",
        "print(df_resultados.sort_values(by='AUC Promedio', ascending=False))"
      ],
      "metadata": {
        "colab": {
          "base_uri": "https://localhost:8080/"
        },
        "id": "27KM2uBiHMuc",
        "outputId": "0d08e110-53ea-4c8a-e22d-efcb16762cd0"
      },
      "id": "27KM2uBiHMuc",
      "execution_count": 22,
      "outputs": [
        {
          "output_type": "stream",
          "name": "stdout",
          "text": [
            "               Modelo  AUC Promedio\n",
            "4  LogisticRegression      0.950113\n",
            "0          SVC_linear      0.923615\n",
            "1            SVC_poly      0.875760\n",
            "2             SVC_rbf      0.839425\n",
            "3         SVC_sigmoid      0.752363\n"
          ]
        }
      ]
    },
    {
      "cell_type": "markdown",
      "id": "138473b9-3a81-43cb-83a5-a362e535b736",
      "metadata": {
        "id": "138473b9-3a81-43cb-83a5-a362e535b736"
      },
      "source": [
        "# Addendum\n",
        "\n",
        "Métricos disponibles para clasificación:\n",
        "- ‘accuracy’\n",
        "- ‘balanced_accuracy’\n",
        "- ‘top_k_accuracy’\n",
        "- ‘average_precision’\n",
        "- ‘neg_brier_score’\n",
        "- ‘f1’\n",
        "- ‘f1_micro’\n",
        "- ‘f1_macro’\n",
        "- ‘f1_weighted’\n",
        "- ‘f1_samples’\n",
        "- ‘neg_log_loss’\n",
        "- ‘precision’ etc.\n",
        "- ‘recall’ etc.\n",
        "- ‘jaccard’ etc.\n",
        "- ‘roc_auc’\n",
        "- ‘roc_auc_ovr’\n",
        "- ‘roc_auc_ovo’\n",
        "- ‘roc_auc_ovr_weighted’\n",
        "- ‘roc_auc_ovo_weighted’\n",
        "- ‘d2_log_loss_score’"
      ]
    },
    {
      "cell_type": "markdown",
      "id": "e68a114d-84df-46fc-b1fb-4729410bdb5f",
      "metadata": {
        "id": "e68a114d-84df-46fc-b1fb-4729410bdb5f"
      },
      "source": [
        "# References\n",
        "\n",
        "[1] Shigeo Abe.Support Vector Machines for Pattern Classification,2Ed.Springer-Verlag London,2010. ISBN978-1-84996-097-7. URLhttps://www.springer.com/gp/book/9781849960977.\n",
        "\n",
        "[2] Johan A K Suykens, Tony Van Gestel, Jos De Brabanter, BartDe Moor, and Joos Vandewalle.Least Squares Support VectorMachines. World Scientific,2002. ISBN9789812381514. URLhttps://www.worldscientific.com/worldscibooks/10.1142/5089.\n",
        "\n",
        "[3] Bradley, A. P. (1997). The use of the area under the ROC curve in the evaluation of machine learning algorithms. Pattern recognition, 30(7), 1145-1159. URL https://www.researchgate.net/post/how_can_I_interpret_the_ROC_curve_result"
      ]
    }
  ],
  "metadata": {
    "kernelspec": {
      "display_name": "Python 3 (ipykernel)",
      "language": "python",
      "name": "python3"
    },
    "language_info": {
      "codemirror_mode": {
        "name": "ipython",
        "version": 3
      },
      "file_extension": ".py",
      "mimetype": "text/x-python",
      "name": "python",
      "nbconvert_exporter": "python",
      "pygments_lexer": "ipython3",
      "version": "3.12.7"
    },
    "colab": {
      "provenance": []
    }
  },
  "nbformat": 4,
  "nbformat_minor": 5
}